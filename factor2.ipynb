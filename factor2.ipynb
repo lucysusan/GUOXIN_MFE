{
 "cells": [
  {
   "cell_type": "code",
   "execution_count": 1,
   "metadata": {},
   "outputs": [],
   "source": [
    "import pandas as pd\n",
    "import numpy as np\n",
    "import pymysql\n",
    "\n",
    "from datetime import datetime\n",
    "from importlib import reload\n",
    "from WindPy import w\n",
    "import cvxpy as cp"
   ]
  },
  {
   "cell_type": "code",
   "execution_count": 3,
   "metadata": {},
   "outputs": [
    {
     "name": "stderr",
     "output_type": "stream",
     "text": [
      "C:\\Users\\17509\\AppData\\Local\\Temp\\ipykernel_11684\\2701659959.py:15: UserWarning: pandas only supports SQLAlchemy connectable (engine/connection) or database string URI or sqlite3 DBAPI2 connection. Other DBAPI2 objects are not tested. Please consider using SQLAlchemy.\n",
      "  data = pd.read_sql_query(query, conn)\n"
     ]
    }
   ],
   "source": [
    "def getHS300Data(conn, start_dt, end_dt):\n",
    "    '''\n",
    "       Function description : 提取沪深300成分股信息\n",
    "       param : conn - 数据连接\n",
    "       return :\n",
    "       Usage:\n",
    "\n",
    "    '''\n",
    "    query = f\"\"\"\n",
    "    SELECT s_con_windcode, trade_dt, i_weight\n",
    "    FROM aindexhs300weight\n",
    "    WHERE trade_dt >= '{str(start_dt)}' AND trade_dt <= '{str(end_dt)}'\n",
    "    ORDER BY s_con_windcode ASC\n",
    "    \"\"\"\n",
    "    data = pd.read_sql_query(query, conn)\n",
    "    return data\n",
    "\n",
    "conn = pymysql.connect(host=\"192.168.64.57\", user=\"infoasadep01\", password=\"tfyfInfo@1522\", database=\"wind\", port=3306, charset=\"utf8\")\n",
    "data = getHS300Data(conn, 20230105, 20230105)"
   ]
  },
  {
   "cell_type": "code",
   "execution_count": 4,
   "metadata": {},
   "outputs": [
    {
     "name": "stdout",
     "output_type": "stream",
     "text": [
      "Welcome to use Wind Quant API for Python (WindPy)!\n",
      "\n",
      "COPYRIGHT (C) 2020 WIND INFORMATION CO., LTD. ALL RIGHTS RESERVED.\n",
      "IN NO CIRCUMSTANCE SHALL WIND BE RESPONSIBLE FOR ANY DAMAGES OR LOSSES CAUSED BY USING WIND QUANT API FOR Python.\n"
     ]
    }
   ],
   "source": [
    "id_list = data.iloc[:, 0].tolist()\n",
    "stock_id_list = ', '.join(id_list)\n",
    "# 初始化Wind API\n",
    "w.start()\n",
    "\n",
    "#获取风格因子数据\n",
    "df = w.wss(stock_id_list, \"mv_ref,pq_avgturn2,roe_ttm2,qfa_yoyprofit,pct_chg_per,industry_citic,val_lnmv,eqy_belongto_parcomsh\",\"unit=1;tradeDate=20240105;startDate=20231204;endDate=20240105;rptDate=20230930;industryType=1;rptType=1\")\n",
    "df = pd.DataFrame(df.Data, columns=df.Codes, index=df.Fields).T"
   ]
  },
  {
   "cell_type": "code",
   "execution_count": 5,
   "metadata": {},
   "outputs": [],
   "source": [
    "import os\n",
    "\n",
    "out_folder = 'wind_data_prj/'\n",
    "os.makedirs(out_folder,exist_ok=True)\n",
    "df.to_csv(out_folder + '风格因子.csv')"
   ]
  },
  {
   "cell_type": "code",
   "execution_count": null,
   "metadata": {},
   "outputs": [],
   "source": [
    "\n",
    "import pickle\n",
    "\n",
    "def write_pickle(data,filename):\n",
    "    with open(filename,'wb') as f:\n",
    "        pickle.dump(data,f)\n",
    "        return\n",
    "\n",
    "def read_pickle(filename):\n",
    "    with open(filename,'rb') as f:\n",
    "        return pickle.load(f)\n",
    "\n",
    "write_pickle(df,out_folder + '风格因子.pkl')"
   ]
  },
  {
   "cell_type": "code",
   "execution_count": 15,
   "metadata": {},
   "outputs": [
    {
     "name": "stdout",
     "output_type": "stream",
     "text": [
      "                换手率   ROETTM    净利润增速        反转     市值对数        BP\n",
      "000001.SZ  0.460171  10.4091  -2.2167  -4.03727  25.9156   2.58965\n",
      "000002.SZ  0.669954   7.5873 -36.0073  -12.3684   25.504   2.12193\n",
      "000063.SZ   2.05605  13.7335  10.3084  -6.08263  25.4891  0.564361\n",
      "000069.SZ  0.600796 -22.0902 -2093.79  -14.7399  23.9094   2.69013\n",
      "000100.SZ   1.23421   3.0423  12497.8   1.19617  25.0982  0.658792\n",
      "...             ...      ...      ...       ...      ...       ...\n",
      "688363.SH  0.989335   11.664 -57.2903   -9.5914  24.1369  0.228029\n",
      "688396.SH  0.297412   7.7214 -60.5066  -9.31362  24.7608  0.369238\n",
      "688561.SH  0.718434  -0.4546 -58.7363  -18.1272   23.951  0.355942\n",
      "688599.SH  0.663595   20.256  77.7948 -0.597684  24.7809  0.542413\n",
      "688981.SH  0.866518    4.488 -70.6928   -6.5928  26.7196  0.355806\n",
      "\n",
      "[300 rows x 6 columns]\n"
     ]
    }
   ],
   "source": [
    "column_mapping = {\n",
    "    'MV_REF': '总市值',\n",
    "    'PQ_AVGTURN2': '换手率',\n",
    "    'ROE_TTM2': 'ROETTM',\n",
    "    'QFA_YOYPROFIT': '净利润增速',\n",
    "    'PCT_CHG_PER': '反转',\n",
    "    'INDUSTRY_CITIC': '所属行业',\n",
    "    'VAL_LNMV': '市值对数',\n",
    "    'EQY_BELONGTO_PARCOMSH': '净资产'\n",
    "}\n",
    "\n",
    "\n",
    "df.rename(columns=column_mapping, inplace=True)\n",
    "\n",
    "df['BP'] = df['净资产']/df['总市值']\n",
    "style_factors = df[['换手率', 'ROETTM', '净利润增速', '反转', '市值对数', 'BP']]\n",
    "\n",
    "print(style_factors)"
   ]
  },
  {
   "cell_type": "code",
   "execution_count": null,
   "metadata": {},
   "outputs": [],
   "source": [
    "# 使用get_dummies将\"所属行业\"列转化为独热编码\n",
    "industry_dummies = pd.get_dummies(df['所属行业'])\n",
    "\n",
    "# 行业因子矩阵\n",
    "industry_factors = pd.DataFrame(industry_dummies)\n",
    "\n",
    "#因子数据\n",
    "factor_scores = w.wss(stock_id_list,\"qfa_roe\",\"rptDate=20230930\")\n",
    "HS300_factor = w.wss(\"000300.SH\", \"qfa_roe\",\"rptDate=20230930\")"
   ]
  },
  {
   "cell_type": "code",
   "execution_count": 9,
   "metadata": {},
   "outputs": [],
   "source": [
    "#计算基准指数风格因子矩阵\n",
    "merged_data = style_factors.merge(data[['s_con_windcode', 'i_weight']], left_index=True, right_on='s_con_windcode')\n",
    "merged_data = merged_data.drop(columns='s_con_windcode')\n",
    "\n",
    "merged_data = merged_data.set_index(style_factors.index)\n",
    "selected_columns = merged_data.iloc[:, :6]\n",
    "weighted_columns = selected_columns.mul(merged_data['i_weight']/100, axis=0)\n",
    "weighted_sum = weighted_columns.sum()\n",
    "\n",
    "HS300_style = pd.DataFrame(weighted_sum.values.reshape(1,-1), index=[\"HS300\"], columns=selected_columns.columns)"
   ]
  },
  {
   "cell_type": "code",
   "execution_count": 10,
   "metadata": {},
   "outputs": [
    {
     "name": "stdout",
     "output_type": "stream",
     "text": [
      "                换手率   ROETTM       净利润增速         反转     市值对数        BP\n",
      "000001.SZ  0.460171  10.4091     -2.2167  -4.037267  25.9156  2.589653\n",
      "000002.SZ  0.669954   7.5873    -36.0073 -12.368421   25.504  2.121928\n",
      "000063.SZ  2.056053  13.7335     10.3084  -6.082632  25.4891  0.564361\n",
      "000069.SZ  0.600796 -22.0902  -2093.7937 -14.739884  23.9094  2.690131\n",
      "000100.SZ  1.234211   3.0423  12497.7574   1.196172  25.0982  0.658792\n",
      "...             ...      ...         ...        ...      ...       ...\n",
      "688363.SH  0.989335   11.664    -57.2903  -9.591398  24.1369  0.228029\n",
      "688396.SH  0.297412   7.7214    -60.5066  -9.313622  24.7608  0.369238\n",
      "688561.SH  0.718434  -0.4546    -58.7363 -18.127224   23.951  0.355942\n",
      "688599.SH  0.663595   20.256     77.7948  -0.597684  24.7809  0.542413\n",
      "688981.SH  0.866518    4.488    -70.6928  -6.592798  26.7196  0.355806\n",
      "\n",
      "[300 rows x 6 columns]\n"
     ]
    }
   ],
   "source": [
    "column_mapping = {\n",
    "    'MV_REF': '总市值',\n",
    "    'PQ_AVGTURN2': '换手率',\n",
    "    'ROE_TTM2': 'ROETTM',\n",
    "    'QFA_YOYPROFIT': '净利润增速',\n",
    "    'PCT_CHG_PER': '反转',\n",
    "    'INDUSTRY_CITIC': '所属行业',\n",
    "    'VAL_LNMV': '市值对数',\n",
    "    'EQY_BELONGTO_PARCOMSH': '净资产'\n",
    "}\n",
    "\n",
    "\n",
    "df.rename(columns=column_mapping, inplace=True)\n",
    "\n",
    "df['BP'] = df['净资产']/df['总市值']\n",
    "style_factors = df[['换手率', 'ROETTM', '净利润增速', '反转', '市值对数', 'BP']]\n",
    "\n",
    "# 风格因子\n",
    "print(style_factors)"
   ]
  },
  {
   "cell_type": "code",
   "execution_count": 11,
   "metadata": {},
   "outputs": [],
   "source": [
    "# 使用get_dummies将\"所属行业\"列转化为独热编码\n",
    "industry_dummies = pd.get_dummies(df['所属行业'])\n",
    "\n",
    "# 行业因子矩阵\n",
    "industry_factors = pd.DataFrame(industry_dummies)\n",
    "\n",
    "# 因子数据\n",
    "factor_scores = w.wss(stock_id_list,\"qfa_roe\",\"rptDate=20230930\")\n",
    "HS300_factor = w.wss(\"000300.SH\", \"qfa_roe\",\"rptDate=20230930\")"
   ]
  },
  {
   "cell_type": "code",
   "execution_count": 12,
   "metadata": {},
   "outputs": [],
   "source": [
    "# 计算基准指数风格因子矩阵\n",
    "merged_data = style_factors.merge(data[['s_con_windcode', 'i_weight']], left_index=True, right_on='s_con_windcode')\n",
    "merged_data = merged_data.drop(columns='s_con_windcode')\n",
    "\n",
    "merged_data = merged_data.set_index(style_factors.index)\n",
    "selected_columns = merged_data.iloc[:, :6]\n",
    "weighted_columns = selected_columns.mul(merged_data['i_weight']/100, axis=0)\n",
    "weighted_sum = weighted_columns.sum()\n",
    "\n",
    "HS300_style = pd.DataFrame(weighted_sum.values.reshape(1,-1), index=[\"HS300\"], columns=selected_columns.columns)"
   ]
  },
  {
   "cell_type": "code",
   "execution_count": 13,
   "metadata": {},
   "outputs": [],
   "source": [
    "num_stocks = df.shape[0]\n",
    "w_b = np.array(data['i_weight']/100)  \n",
    "factor_values = np.array(factor_scores.Data[0])  \n",
    "X = np.array(style_factors)  \n",
    "H = np.array(industry_factors)  "
   ]
  },
  {
   "cell_type": "code",
   "execution_count": 14,
   "metadata": {},
   "outputs": [],
   "source": [
    "# 初始化股票权重为优化变量\n",
    "w = cp.Variable(num_stocks)\n",
    "\n",
    "# 目标函数：最大化因子暴露\n",
    "objective = cp.Maximize(factor_values.T @ w)"
   ]
  },
  {
   "cell_type": "code",
   "execution_count": 9,
   "metadata": {},
   "outputs": [],
   "source": [
    "# 设置约束条件的参数\n",
    "\n",
    "\n",
    "# HS300_style_sl = HS300_style.copy()\n",
    "# HS300_style_sl.iloc[:, :4] += 9999999999\n",
    "# HS300_style_sl.iloc[:, 5:] += 9999999999\n",
    "# s_l = np.array(HS300_style_sl) \n",
    "# s_l = s_l.reshape(-1)\n",
    "\n",
    "# HS300_style_sh = HS300_style.copy()\n",
    "# HS300_style_sh.iloc[:, :4] += -99999999999\n",
    "# HS300_style_sh.iloc[:, 5:] += -99999999999\n",
    "# s_h = np.array(HS300_style_sh) \n",
    "# s_h = s_h.reshape(-1)\n",
    "\n",
    "\n",
    "\n",
    "# 市值对数这列数据保持不变，其他列都设为无穷\n",
    "HS300_style_sl = np.copy(HS300_style)\n",
    "HS300_style_sl[:, :4] = np.inf\n",
    "HS300_style_sl[:, 5:] = np.inf\n",
    "s_l = HS300_style_sl.reshape(-1)\n",
    "\n",
    "HS300_style_sh = np.copy(HS300_style)\n",
    "HS300_style_sh[:, :4] = -np.inf\n",
    "HS300_style_sh[:, 5:] = -np.inf\n",
    "s_h = HS300_style_sh.reshape(-1)\n",
    "\n",
    "h_l = 0.5 * np.ones((27,))  \n",
    "h_h = 1.5 * np.ones((27,))  \n",
    "\n",
    "w_l = w_b - 0.01 * np.ones(300)\n",
    "w_h = w_b + 0.01 * np.ones(300)\n",
    "\n",
    "# b_l, b_h = 0, 1  # 成分股权重占比的上下限\n",
    "\n",
    "l = 2  # 个股权重上限"
   ]
  },
  {
   "cell_type": "code",
   "execution_count": 10,
   "metadata": {},
   "outputs": [],
   "source": [
    "# 定义约束\n",
    "constraints = [\n",
    "    s_l.T <= X.T @ (w - w_b),  # 风格暴露约束\n",
    "    X.T @ (w - w_b) <= s_h.T,\n",
    "\n",
    "    h_l <= H.T @ (w - w_b),  # 行业暴露约束\n",
    "    H.T @ (w - w_b) <= h_h,\n",
    "\n",
    "    w_l <= w - w_b,\n",
    "    w - w_b <= w_h,\n",
    "\n",
    "    # b_l <= w,  # 成分股权重占比约束\n",
    "    # w <= b_h,\n",
    "\n",
    "    0 <= w,\n",
    "    # w <= l,\n",
    "\n",
    "    cp.sum(w) == 1,  # 权重和为1\n",
    "]"
   ]
  },
  {
   "cell_type": "code",
   "execution_count": 11,
   "metadata": {},
   "outputs": [
    {
     "name": "stdout",
     "output_type": "stream",
     "text": [
      "===============================================================================\n",
      "                                     CVXPY                                     \n",
      "                                    v1.1.24                                    \n",
      "===============================================================================\n",
      "(CVXPY) Feb 02 10:49:45 AM: Your problem has 300 variables, 8 constraints, and 0 parameters.\n",
      "(CVXPY) Feb 02 10:49:45 AM: It is compliant with the following grammars: DCP, DQCP\n",
      "(CVXPY) Feb 02 10:49:45 AM: (If you need to solve this problem multiple times, but with different data, consider using parameters.)\n",
      "(CVXPY) Feb 02 10:49:45 AM: CVXPY will first compile your problem; then, it will invoke a numerical solver to obtain a solution.\n",
      "-------------------------------------------------------------------------------\n",
      "                                  Compilation                                  \n",
      "-------------------------------------------------------------------------------\n",
      "(CVXPY) Feb 02 10:49:45 AM: Compiling problem (target solver=ECOS).\n",
      "(CVXPY) Feb 02 10:49:45 AM: Reduction chain: FlipObjective -> Dcp2Cone -> CvxAttr2Constr -> ConeMatrixStuffing -> ECOS\n",
      "(CVXPY) Feb 02 10:49:45 AM: Applying reduction FlipObjective\n",
      "(CVXPY) Feb 02 10:49:45 AM: Applying reduction Dcp2Cone\n",
      "(CVXPY) Feb 02 10:49:45 AM: Applying reduction CvxAttr2Constr\n",
      "(CVXPY) Feb 02 10:49:45 AM: Applying reduction ConeMatrixStuffing\n",
      "(CVXPY) Feb 02 10:49:45 AM: Applying reduction ECOS\n",
      "(CVXPY) Feb 02 10:49:45 AM: Finished problem compilation (took 2.100e-02 seconds).\n",
      "-------------------------------------------------------------------------------\n",
      "                                Numerical solver                               \n",
      "-------------------------------------------------------------------------------\n",
      "(CVXPY) Feb 02 10:49:45 AM: Invoking solver ECOS  to obtain a solution.\n",
      "-------------------------------------------------------------------------------\n",
      "                                    Summary                                    \n",
      "-------------------------------------------------------------------------------\n",
      "(CVXPY) Feb 02 10:49:45 AM: Problem status: optimal_inaccurate\n",
      "(CVXPY) Feb 02 10:49:45 AM: Optimal value: -3.944e+82\n",
      "(CVXPY) Feb 02 10:49:45 AM: Compilation took 2.100e-02 seconds\n",
      "(CVXPY) Feb 02 10:49:45 AM: Solver (including time spent in interface) took 1.000e-03 seconds\n"
     ]
    },
    {
     "name": "stderr",
     "output_type": "stream",
     "text": [
      "c:\\Users\\liyou\\AppData\\Local\\Programs\\Python\\Python36-32\\lib\\site-packages\\cvxpy\\problems\\problem.py:1303: UserWarning: Solution may be inaccurate. Try another solver, adjusting the solver settings, or solve with verbose=True for more information.\n",
      "  \"Solution may be inaccurate. Try another solver, \"\n"
     ]
    },
    {
     "data": {
      "text/plain": [
       "-3.944429438117649e+82"
      ]
     },
     "execution_count": 11,
     "metadata": {},
     "output_type": "execute_result"
    }
   ],
   "source": [
    "# 求解优化问题\n",
    "prob = cp.Problem(objective, constraints)\n",
    "\n",
    "prob.solve(solver=cp.ECOS, verbose=True)"
   ]
  },
  {
   "cell_type": "code",
   "execution_count": 12,
   "metadata": {},
   "outputs": [
    {
     "name": "stdout",
     "output_type": "stream",
     "text": [
      "[-4.24035886e+79 -4.11873337e+79 -4.30237770e+79 -8.91087012e+78\n",
      " -1.86641918e+78 -3.78491894e+79 -4.31283203e+79 -1.10693369e+79\n",
      " -4.13238624e+79 -3.13967204e+79 -4.11139383e+79 -4.39114225e+79\n",
      " -3.84219412e+79 -4.08187969e+79 -4.01368012e+79 -3.74671606e+79\n",
      " -4.23579703e+79 -4.41320188e+79 -4.37698029e+79 -3.83001534e+79\n",
      " -3.57991641e+79 -4.51953442e+79 -4.19786298e+79 -4.31541696e+79\n",
      " -4.45441093e+79 -3.79059889e+79 -3.74485298e+79 -4.09673769e+79\n",
      " -3.52763698e+79 -3.51945175e+79 -4.25909565e+79 -4.41713221e+79\n",
      " -4.39318003e+79 -4.45135838e+79 -4.25376179e+79 -4.33721113e+79\n",
      " -4.42394471e+79 -3.82902177e+79 -4.30088010e+79 -3.73808236e+79\n",
      " -4.14120550e+79 -4.42538760e+79 -4.32508780e+79 -7.01231730e+78\n",
      " -4.48194199e+79 -4.22037591e+79 -4.41114416e+79 -4.28880636e+79\n",
      " -4.36369212e+79 -3.61983944e+79 -3.79637291e+79 -3.77573233e+79\n",
      " -3.21726505e+79 -3.82919614e+79 -4.42670590e+79 -4.08660427e+79\n",
      " -4.26348621e+79 -4.37878928e+79 -4.23466893e+79 -4.29421211e+79\n",
      " -3.84352346e+79 -4.16286108e+79 -4.16728494e+79 -4.38183738e+79\n",
      " -3.66387369e+79 -4.23568238e+79 -4.20383298e+79 -2.94634095e+79\n",
      " -3.89170285e+79 -3.56751488e+79 -4.45738830e+79 -4.46918030e+79\n",
      " -3.46000170e+79 -2.99980189e+79 -3.92179636e+79 -3.61817276e+79\n",
      " -4.35973770e+79 -3.96941289e+79 -4.20266600e+79 -4.11657071e+79\n",
      " -4.14470335e+79 -4.49353337e+79 -3.66559512e+79 -4.12968995e+79\n",
      " -4.25220568e+79 -4.35838584e+79 -4.07181322e+79 -4.35978329e+79\n",
      " -4.21793746e+79 -4.22982551e+79 -4.25666113e+79 -4.40847311e+79\n",
      " -4.00603314e+79 -4.33286271e+79 -3.45735310e+79 -3.78098667e+79\n",
      " -4.24058315e+79 -4.22527969e+79 -4.44853242e+79 -4.39911965e+79\n",
      " -4.36840953e+79 -3.45116211e+79 -4.49888993e+79 -3.62972850e+79\n",
      " -4.60849264e+79 -4.59265317e+79 -3.67965174e+79 -4.44897662e+79\n",
      " -3.88945544e+79 -4.06184614e+79 -4.50007672e+79 -4.43617840e+79\n",
      " -4.07371878e+79 -4.05244948e+79 -3.90219206e+79 -3.71584591e+79\n",
      " -4.38043634e+79 -4.01441310e+79 -4.53214435e+79 -4.40305793e+79\n",
      " -3.07994759e+79 -3.87062852e+79 -3.40655046e+79 -3.69950171e+79\n",
      " -2.93329206e+79 -4.33567592e+79 -4.25119774e+79 -4.30072421e+79\n",
      " -3.50452711e+79 -4.13339772e+79 -3.70755436e+79 -3.37232466e+79\n",
      " -4.17157944e+79 -4.15022326e+79 -4.05245581e+79 -4.30405935e+79\n",
      " -3.93054878e+79 -4.28170416e+79 -3.55895823e+79 -3.87334604e+79\n",
      " -3.90016360e+79 -4.26099639e+79 -3.85790678e+79 -3.12622262e+79\n",
      " -2.55704863e+79 -3.88659604e+79 -4.06040191e+79 -4.46807497e+79\n",
      " -3.89645492e+79 -4.22923592e+79 -4.49055261e+79 -4.46286056e+79\n",
      " -4.18429736e+79 -4.07209599e+79 -4.44243321e+79 -3.27944155e+79\n",
      " -4.25831877e+79 -3.55549099e+79 -4.24166213e+79 -4.40999148e+79\n",
      " -4.27666741e+79 -3.81625176e+79 -3.48211856e+79 -3.84903590e+79\n",
      " -3.27069626e+79 -4.01181578e+79 -4.08980319e+79 -4.30019302e+79\n",
      " -4.30838529e+79 -4.33315490e+79 -3.70602287e+79 -4.32628311e+79\n",
      " -4.29026635e+79 -4.22377805e+79 -4.43039848e+79 -4.43550036e+79\n",
      " -4.07442170e+79 -4.56774257e+79 -4.36489518e+79 -4.31536256e+79\n",
      " -3.98632574e+79 -3.93303536e+79 -4.24653746e+79 -3.97428160e+79\n",
      " -3.98741339e+79 -3.82922051e+79 -4.33609639e+79 -4.04840339e+79\n",
      " -4.29374146e+79 -2.58094028e+79 -4.29319742e+79 -4.38975699e+79\n",
      " -3.91712334e+79 -4.28784275e+79 -4.31607114e+79 -4.30273220e+79\n",
      " -4.30410646e+79 -4.36395095e+79 -3.97624969e+79 -3.04948598e+79\n",
      " -4.12483101e+79 -4.06168947e+79 -4.25148670e+79 -3.44687007e+79\n",
      " -4.47315795e+79 -4.14152413e+79 -4.21385464e+79 -4.16498281e+79\n",
      " -4.32879557e+79 -4.32056698e+79 -3.97116038e+79 -4.50587396e+79\n",
      " -4.20410302e+79 -4.34775422e+79 -3.92396401e+79 -4.23451014e+79\n",
      " -3.97555471e+79 -4.05315749e+79 -3.61097183e+79 -4.11665476e+79\n",
      " -3.56295673e+79 -3.74781633e+79 -3.67301081e+79 -4.27366600e+79\n",
      " -3.94037899e+79 -3.91219149e+79 -3.83846540e+79 -4.18566170e+79\n",
      " -4.39498794e+79 -3.47071461e+79 -3.97774466e+79 -4.11562041e+79\n",
      " -4.22526932e+79 -4.35266935e+79 -4.29268291e+79 -4.37283181e+79\n",
      " -4.19417003e+79 -4.10227762e+79 -4.26700912e+79 -4.01713294e+79\n",
      " -4.48920941e+79 -4.29347677e+79 -4.37860524e+79 -3.15615698e+79\n",
      " -4.24342506e+79 -4.45455413e+79 -3.96947970e+79 -3.82516524e+79\n",
      " -4.04244773e+79 -4.44884975e+79 -4.47136066e+79 -4.28926117e+79\n",
      " -4.14550802e+79 -4.25565241e+79 -3.97735558e+79 -4.39576104e+79\n",
      " -3.67463208e+79 -3.94564714e+79 -3.33463880e+79 -4.24846550e+79\n",
      " -3.98475481e+79 -3.92624636e+79 -3.89224008e+79 -4.17918358e+79\n",
      " -4.41907457e+79 -3.97482383e+79 -4.31017726e+79 -4.22367867e+79\n",
      " -3.94105679e+79 -4.22932275e+79 -4.52352655e+79 -4.37638984e+79\n",
      " -2.39393558e+79 -3.85355502e+79 -3.20733853e+79 -4.00300499e+79\n",
      " -4.23381713e+79 -4.45450639e+79 -4.46449066e+79 -4.00749051e+79\n",
      " -4.50621643e+79 -3.80277217e+79 -4.30697624e+79 -3.83782917e+79\n",
      " -4.22242481e+79 -4.38208207e+79 -4.00666104e+79 -3.96892735e+79\n",
      " -3.33316405e+79 -4.17466860e+79 -4.29359441e+79 -3.80764288e+79\n",
      " -3.54298706e+79 -4.30372307e+79 -3.75815716e+79 -4.05039583e+79\n",
      " -3.94657058e+79 -4.06127746e+79 -3.82218844e+79 -3.65573208e+79]\n"
     ]
    }
   ],
   "source": [
    "print(w.value)"
   ]
  },
  {
   "cell_type": "code",
   "execution_count": 18,
   "metadata": {},
   "outputs": [
    {
     "name": "stdout",
     "output_type": "stream",
     "text": [
      "-12459255703170529812515405425618757474132041146059394279711790483735661921429356544.00%\n"
     ]
    }
   ],
   "source": [
    "result_df = pd.DataFrame({'Result': factor_values * w.value}, index=factor_scores.Codes)\n",
    "#降序排列\n",
    "result_df1 = result_df.sort_values(by=\"Result\", ascending=False)\n",
    "# 选择前20%的数据并计算平均值\n",
    "percentile = 0.2\n",
    "num_rows_to_select = int(num_stocks * percentile)\n",
    "average_value = result_df.head(num_rows_to_select)[\"Result\"].mean()\n",
    "\n",
    "# 计算超额收益\n",
    "excess_returns = average_value - HS300_factor.Data\n",
    "print(\"{:.2f}%\".format(float(excess_returns[0]) * 100))\n"
   ]
  }
 ],
 "metadata": {
  "kernelspec": {
   "display_name": "Python 3",
   "language": "python",
   "name": "python3"
  },
  "language_info": {
   "codemirror_mode": {
    "name": "ipython",
    "version": 3
   },
   "file_extension": ".py",
   "mimetype": "text/x-python",
   "name": "python",
   "nbconvert_exporter": "python",
   "pygments_lexer": "ipython3",
   "version": "3.8.18"
  }
 },
 "nbformat": 4,
 "nbformat_minor": 2
}
